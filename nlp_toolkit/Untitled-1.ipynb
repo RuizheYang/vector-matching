{
 "cells": [
  {
   "cell_type": "code",
   "execution_count": 2,
   "metadata": {},
   "outputs": [
    {
     "ename": "ModuleNotFoundError",
     "evalue": "No module named 'torch'",
     "output_type": "error",
     "traceback": [
      "\u001b[1;31m---------------------------------------------------------------------------\u001b[0m",
      "\u001b[1;31mModuleNotFoundError\u001b[0m                       Traceback (most recent call last)",
      "\u001b[1;32md:\\pycharm\\nlp_toolkit\\nlp_toolkit\\Untitled-1.ipynb 单元格 1\u001b[0m line \u001b[0;36m1\n\u001b[1;32m----> <a href='vscode-notebook-cell:/d%3A/pycharm/nlp_toolkit/nlp_toolkit/Untitled-1.ipynb#W0sZmlsZQ%3D%3D?line=0'>1</a>\u001b[0m \u001b[39mimport\u001b[39;00m \u001b[39mnlp_toolkit\u001b[39;00m\n",
      "File \u001b[1;32md:\\anaconda\\envs\\py310\\lib\\site-packages\\nlp_toolkit\\__init__.py:1\u001b[0m\n\u001b[1;32m----> 1\u001b[0m \u001b[39mfrom\u001b[39;00m \u001b[39m.\u001b[39;00m\u001b[39membedder\u001b[39;00m \u001b[39mimport\u001b[39;00m \u001b[39m*\u001b[39m\n\u001b[0;32m      2\u001b[0m \u001b[39mfrom\u001b[39;00m \u001b[39m.\u001b[39;00m\u001b[39mhf_config\u001b[39;00m \u001b[39mimport\u001b[39;00m \u001b[39m*\u001b[39m\n\u001b[0;32m      3\u001b[0m \u001b[39mfrom\u001b[39;00m \u001b[39m.\u001b[39;00m\u001b[39mchroma_utils\u001b[39;00m \u001b[39mimport\u001b[39;00m \u001b[39m*\u001b[39m\n",
      "File \u001b[1;32md:\\anaconda\\envs\\py310\\lib\\site-packages\\nlp_toolkit\\embedder.py:1\u001b[0m\n\u001b[1;32m----> 1\u001b[0m \u001b[39mimport\u001b[39;00m \u001b[39mtorch\u001b[39;00m\n\u001b[0;32m      2\u001b[0m \u001b[39mfrom\u001b[39;00m \u001b[39mtransformers\u001b[39;00m \u001b[39mimport\u001b[39;00m AutoTokenizer, AutoModel\n\u001b[0;32m      3\u001b[0m \u001b[39mimport\u001b[39;00m \u001b[39mtorch\u001b[39;00m\u001b[39m.\u001b[39;00m\u001b[39mnn\u001b[39;00m\u001b[39m.\u001b[39;00m\u001b[39mfunctional\u001b[39;00m \u001b[39mas\u001b[39;00m \u001b[39mF\u001b[39;00m\n",
      "\u001b[1;31mModuleNotFoundError\u001b[0m: No module named 'torch'"
     ]
    }
   ],
   "source": [
    "import nlp_toolkit\n"
   ]
  },
  {
   "cell_type": "code",
   "execution_count": 2,
   "metadata": {},
   "outputs": [
    {
     "ename": "ModuleNotFoundError",
     "evalue": "No module named 'torch'",
     "output_type": "error",
     "traceback": [
      "\u001b[1;31m---------------------------------------------------------------------------\u001b[0m",
      "\u001b[1;31mModuleNotFoundError\u001b[0m                       Traceback (most recent call last)",
      "\u001b[1;32md:\\pycharm\\nlp_toolkit\\nlp_toolkit\\Untitled-1.ipynb 单元格 2\u001b[0m line \u001b[0;36m2\n\u001b[0;32m      <a href='vscode-notebook-cell:/d%3A/pycharm/nlp_toolkit/nlp_toolkit/Untitled-1.ipynb#W1sZmlsZQ%3D%3D?line=0'>1</a>\u001b[0m \u001b[39mimport\u001b[39;00m \u001b[39mpandas\u001b[39;00m \u001b[39mas\u001b[39;00m \u001b[39mpd\u001b[39;00m\n\u001b[1;32m----> <a href='vscode-notebook-cell:/d%3A/pycharm/nlp_toolkit/nlp_toolkit/Untitled-1.ipynb#W1sZmlsZQ%3D%3D?line=1'>2</a>\u001b[0m \u001b[39mfrom\u001b[39;00m \u001b[39mnlp_toolkit\u001b[39;00m \u001b[39mimport\u001b[39;00m (\n\u001b[0;32m      <a href='vscode-notebook-cell:/d%3A/pycharm/nlp_toolkit/nlp_toolkit/Untitled-1.ipynb#W1sZmlsZQ%3D%3D?line=2'>3</a>\u001b[0m     set_proxy,\n\u001b[0;32m      <a href='vscode-notebook-cell:/d%3A/pycharm/nlp_toolkit/nlp_toolkit/Untitled-1.ipynb#W1sZmlsZQ%3D%3D?line=3'>4</a>\u001b[0m     SentenceEmbedder,\n\u001b[0;32m      <a href='vscode-notebook-cell:/d%3A/pycharm/nlp_toolkit/nlp_toolkit/Untitled-1.ipynb#W1sZmlsZQ%3D%3D?line=4'>5</a>\u001b[0m     make_chroma,\n\u001b[0;32m      <a href='vscode-notebook-cell:/d%3A/pycharm/nlp_toolkit/nlp_toolkit/Untitled-1.ipynb#W1sZmlsZQ%3D%3D?line=5'>6</a>\u001b[0m     insert_df_collection\n\u001b[0;32m      <a href='vscode-notebook-cell:/d%3A/pycharm/nlp_toolkit/nlp_toolkit/Untitled-1.ipynb#W1sZmlsZQ%3D%3D?line=6'>7</a>\u001b[0m )\n\u001b[0;32m      <a href='vscode-notebook-cell:/d%3A/pycharm/nlp_toolkit/nlp_toolkit/Untitled-1.ipynb#W1sZmlsZQ%3D%3D?line=8'>9</a>\u001b[0m set_proxy(\u001b[39m33210\u001b[39m)\n",
      "File \u001b[1;32md:\\anaconda\\envs\\py310\\lib\\site-packages\\nlp_toolkit\\__init__.py:1\u001b[0m\n\u001b[1;32m----> 1\u001b[0m \u001b[39mfrom\u001b[39;00m \u001b[39m.\u001b[39;00m\u001b[39membedder\u001b[39;00m \u001b[39mimport\u001b[39;00m \u001b[39m*\u001b[39m\n\u001b[0;32m      2\u001b[0m \u001b[39mfrom\u001b[39;00m \u001b[39m.\u001b[39;00m\u001b[39mhf_config\u001b[39;00m \u001b[39mimport\u001b[39;00m \u001b[39m*\u001b[39m\n\u001b[0;32m      3\u001b[0m \u001b[39mfrom\u001b[39;00m \u001b[39m.\u001b[39;00m\u001b[39mchroma_utils\u001b[39;00m \u001b[39mimport\u001b[39;00m \u001b[39m*\u001b[39m\n",
      "File \u001b[1;32md:\\anaconda\\envs\\py310\\lib\\site-packages\\nlp_toolkit\\embedder.py:1\u001b[0m\n\u001b[1;32m----> 1\u001b[0m \u001b[39mimport\u001b[39;00m \u001b[39mtorch\u001b[39;00m\n\u001b[0;32m      2\u001b[0m \u001b[39mfrom\u001b[39;00m \u001b[39mtransformers\u001b[39;00m \u001b[39mimport\u001b[39;00m AutoTokenizer, AutoModel\n\u001b[0;32m      3\u001b[0m \u001b[39mimport\u001b[39;00m \u001b[39mtorch\u001b[39;00m\u001b[39m.\u001b[39;00m\u001b[39mnn\u001b[39;00m\u001b[39m.\u001b[39;00m\u001b[39mfunctional\u001b[39;00m \u001b[39mas\u001b[39;00m \u001b[39mF\u001b[39;00m\n",
      "\u001b[1;31mModuleNotFoundError\u001b[0m: No module named 'torch'"
     ]
    }
   ],
   "source": [
    "import pandas as pd\n",
    "from nlp_toolkit import (\n",
    "    set_proxy,\n",
    "    SentenceEmbedder,\n",
    "    make_chroma,\n",
    "    insert_df_collection\n",
    ")\n",
    "\n",
    "set_proxy(33210)"
   ]
  },
  {
   "cell_type": "code",
   "execution_count": 3,
   "metadata": {},
   "outputs": [
    {
     "data": {
      "text/plain": [
       "'d:\\\\pycharm\\\\nlp_toolkit\\\\nlp_toolkit'"
      ]
     },
     "execution_count": 3,
     "metadata": {},
     "output_type": "execute_result"
    }
   ],
   "source": [
    "pwd"
   ]
  },
  {
   "cell_type": "code",
   "execution_count": 10,
   "metadata": {},
   "outputs": [
    {
     "ename": "NameError",
     "evalue": "name 'pd' is not defined",
     "output_type": "error",
     "traceback": [
      "\u001b[1;31m---------------------------------------------------------------------------\u001b[0m",
      "\u001b[1;31mNameError\u001b[0m                                 Traceback (most recent call last)",
      "\u001b[1;32md:\\pycharm\\nlp_toolkit\\nlp_toolkit\\Untitled-1.ipynb 单元格 4\u001b[0m line \u001b[0;36m1\n\u001b[1;32m----> <a href='vscode-notebook-cell:/d%3A/pycharm/nlp_toolkit/nlp_toolkit/Untitled-1.ipynb#W4sZmlsZQ%3D%3D?line=0'>1</a>\u001b[0m description \u001b[39m=\u001b[39m pd\u001b[39m.\u001b[39mread_feather(\u001b[39mr\u001b[39m\u001b[39m'\u001b[39m\u001b[39mD:\u001b[39m\u001b[39m\\\u001b[39m\u001b[39mpycharm\u001b[39m\u001b[39m\\\u001b[39m\u001b[39mnlp_toolkit\u001b[39m\u001b[39m\\\u001b[39m\u001b[39mappvec_incomplete.fth\u001b[39m\u001b[39m'\u001b[39m)\n\u001b[0;32m      <a href='vscode-notebook-cell:/d%3A/pycharm/nlp_toolkit/nlp_toolkit/Untitled-1.ipynb#W4sZmlsZQ%3D%3D?line=1'>2</a>\u001b[0m description \u001b[39m=\u001b[39m description\u001b[39m.\u001b[39msort_values(\u001b[39m'\u001b[39m\u001b[39msim\u001b[39m\u001b[39m'\u001b[39m,ascending\u001b[39m=\u001b[39m\u001b[39mFalse\u001b[39;00m)\u001b[39m.\u001b[39mreset_index(drop\u001b[39m=\u001b[39m\u001b[39mTrue\u001b[39;00m)\n",
      "\u001b[1;31mNameError\u001b[0m: name 'pd' is not defined"
     ]
    }
   ],
   "source": [
    "description = pd.read_feather(r'D:\\pycharm\\nlp_toolkit\\appvec_incomplete.fth')\n",
    "description = description.sort_values('sim',ascending=False).reset_index(drop=True)\n"
   ]
  },
  {
   "cell_type": "code",
   "execution_count": 5,
   "metadata": {},
   "outputs": [],
   "source": [
    "description = description[['package_name','data_country_id','app_name','score_old','installs_old','genre_old','title','summary','comments','description','url']]\n",
    "description['index'] = description.index"
   ]
  },
  {
   "cell_type": "code",
   "execution_count": 6,
   "metadata": {},
   "outputs": [
    {
     "name": "stdout",
     "output_type": "stream",
     "text": [
      "cpu\n",
      "Embedding Batch: 1......Done.\n"
     ]
    },
    {
     "data": {
      "text/plain": [
       "(1, 384)"
      ]
     },
     "execution_count": 6,
     "metadata": {},
     "output_type": "execute_result"
    }
   ],
   "source": [
    "sentences = description.summary.tolist()[:2000]\n",
    "embedder = SentenceEmbedder(batch_size=128)\n",
    "\n",
    "# this is the object used by chromadb\n",
    "chroma_embedder = make_chroma(embedder)\n",
    "chroma_embedder(['what is the fuck']).shape"
   ]
  },
  {
   "cell_type": "code",
   "execution_count": 7,
   "metadata": {},
   "outputs": [
    {
     "name": "stdout",
     "output_type": "stream",
     "text": [
      "Embedding Batch: 1......"
     ]
    },
    {
     "ename": "KeyboardInterrupt",
     "evalue": "",
     "output_type": "error",
     "traceback": [
      "\u001b[1;31m---------------------------------------------------------------------------\u001b[0m",
      "\u001b[1;31mKeyboardInterrupt\u001b[0m                         Traceback (most recent call last)",
      "\u001b[1;32md:\\pycharm\\nlp_toolkit\\nlp_toolkit\\Untitled-1.ipynb 单元格 8\u001b[0m line \u001b[0;36m1\n\u001b[1;32m----> <a href='vscode-notebook-cell:/d%3A/pycharm/nlp_toolkit/nlp_toolkit/Untitled-1.ipynb#W3sZmlsZQ%3D%3D?line=0'>1</a>\u001b[0m embeded_sentences \u001b[39m=\u001b[39m embedder(sentences)\n",
      "File \u001b[1;32md:\\anaconda\\envs\\py310\\lib\\site-packages\\nlp_toolkit\\embedder.py:64\u001b[0m, in \u001b[0;36mSentenceEmbedder.__call__\u001b[1;34m(self, texts)\u001b[0m\n\u001b[0;32m     62\u001b[0m \u001b[39mprint\u001b[39m(\u001b[39m\"\u001b[39m\u001b[39mEmbedding Batch: \u001b[39m\u001b[39m{}\u001b[39;00m\u001b[39m\"\u001b[39m\u001b[39m.\u001b[39mformat(i \u001b[39m+\u001b[39m \u001b[39m1\u001b[39m), end \u001b[39m=\u001b[39m \u001b[39m\"\u001b[39m\u001b[39m......\u001b[39m\u001b[39m\"\u001b[39m)\n\u001b[0;32m     63\u001b[0m subset \u001b[39m=\u001b[39m texts[i \u001b[39m*\u001b[39m batch_size: (i\u001b[39m+\u001b[39m\u001b[39m1\u001b[39m) \u001b[39m*\u001b[39m batch_size]\n\u001b[1;32m---> 64\u001b[0m subset_embedding \u001b[39m=\u001b[39m \u001b[39mself\u001b[39;49m\u001b[39m.\u001b[39;49membed_sentences(subset)\n\u001b[0;32m     65\u001b[0m subset_embeddings\u001b[39m.\u001b[39mappend(subset_embedding)\n\u001b[0;32m     66\u001b[0m \u001b[39mprint\u001b[39m(\u001b[39m\"\u001b[39m\u001b[39mDone.\u001b[39m\u001b[39m\"\u001b[39m)\n",
      "File \u001b[1;32md:\\anaconda\\envs\\py310\\lib\\site-packages\\nlp_toolkit\\embedder.py:52\u001b[0m, in \u001b[0;36mSentenceEmbedder.embed_sentences\u001b[1;34m(self, sentences)\u001b[0m\n\u001b[0;32m     51\u001b[0m \u001b[39mdef\u001b[39;00m \u001b[39membed_sentences\u001b[39m(\u001b[39mself\u001b[39m, sentences):\n\u001b[1;32m---> 52\u001b[0m     encoder_input, model_output \u001b[39m=\u001b[39m \u001b[39mself\u001b[39;49m\u001b[39m.\u001b[39;49m_embed(sentences)\n\u001b[0;32m     53\u001b[0m     \u001b[39mreturn\u001b[39;00m \u001b[39mself\u001b[39m\u001b[39m.\u001b[39mmean_pooling(encoder_input, model_output)\u001b[39m.\u001b[39mcpu()\u001b[39m.\u001b[39mnumpy()\n",
      "File \u001b[1;32md:\\anaconda\\envs\\py310\\lib\\site-packages\\nlp_toolkit\\embedder.py:35\u001b[0m, in \u001b[0;36mSentenceEmbedder._embed\u001b[1;34m(self, sentences)\u001b[0m\n\u001b[0;32m     32\u001b[0m encoder_input \u001b[39m=\u001b[39m \u001b[39mself\u001b[39m\u001b[39m.\u001b[39mtokenizer(sentences, padding \u001b[39m=\u001b[39m \u001b[39mTrue\u001b[39;00m, truncation \u001b[39m=\u001b[39m \u001b[39mTrue\u001b[39;00m, return_tensors \u001b[39m=\u001b[39m \u001b[39m'\u001b[39m\u001b[39mpt\u001b[39m\u001b[39m'\u001b[39m)\u001b[39m.\u001b[39mto(\u001b[39mself\u001b[39m\u001b[39m.\u001b[39mdevice)\n\u001b[0;32m     34\u001b[0m \u001b[39mwith\u001b[39;00m torch\u001b[39m.\u001b[39mno_grad():\n\u001b[1;32m---> 35\u001b[0m     model_output \u001b[39m=\u001b[39m \u001b[39mself\u001b[39m\u001b[39m.\u001b[39mmodel(\u001b[39m*\u001b[39m\u001b[39m*\u001b[39mencoder_input)\n\u001b[0;32m     37\u001b[0m \u001b[39mreturn\u001b[39;00m encoder_input, model_output\n",
      "File \u001b[1;32md:\\anaconda\\envs\\py310\\lib\\site-packages\\torch\\nn\\modules\\module.py:1518\u001b[0m, in \u001b[0;36mModule._wrapped_call_impl\u001b[1;34m(self, *args, **kwargs)\u001b[0m\n\u001b[0;32m   1516\u001b[0m     \u001b[39mreturn\u001b[39;00m \u001b[39mself\u001b[39m\u001b[39m.\u001b[39m_compiled_call_impl(\u001b[39m*\u001b[39margs, \u001b[39m*\u001b[39m\u001b[39m*\u001b[39mkwargs)  \u001b[39m# type: ignore[misc]\u001b[39;00m\n\u001b[0;32m   1517\u001b[0m \u001b[39melse\u001b[39;00m:\n\u001b[1;32m-> 1518\u001b[0m     \u001b[39mreturn\u001b[39;00m \u001b[39mself\u001b[39m\u001b[39m.\u001b[39m_call_impl(\u001b[39m*\u001b[39margs, \u001b[39m*\u001b[39m\u001b[39m*\u001b[39mkwargs)\n",
      "File \u001b[1;32md:\\anaconda\\envs\\py310\\lib\\site-packages\\torch\\nn\\modules\\module.py:1527\u001b[0m, in \u001b[0;36mModule._call_impl\u001b[1;34m(self, *args, **kwargs)\u001b[0m\n\u001b[0;32m   1522\u001b[0m \u001b[39m# If we don't have any hooks, we want to skip the rest of the logic in\u001b[39;00m\n\u001b[0;32m   1523\u001b[0m \u001b[39m# this function, and just call forward.\u001b[39;00m\n\u001b[0;32m   1524\u001b[0m \u001b[39mif\u001b[39;00m \u001b[39mnot\u001b[39;00m (\u001b[39mself\u001b[39m\u001b[39m.\u001b[39m_backward_hooks \u001b[39mor\u001b[39;00m \u001b[39mself\u001b[39m\u001b[39m.\u001b[39m_backward_pre_hooks \u001b[39mor\u001b[39;00m \u001b[39mself\u001b[39m\u001b[39m.\u001b[39m_forward_hooks \u001b[39mor\u001b[39;00m \u001b[39mself\u001b[39m\u001b[39m.\u001b[39m_forward_pre_hooks\n\u001b[0;32m   1525\u001b[0m         \u001b[39mor\u001b[39;00m _global_backward_pre_hooks \u001b[39mor\u001b[39;00m _global_backward_hooks\n\u001b[0;32m   1526\u001b[0m         \u001b[39mor\u001b[39;00m _global_forward_hooks \u001b[39mor\u001b[39;00m _global_forward_pre_hooks):\n\u001b[1;32m-> 1527\u001b[0m     \u001b[39mreturn\u001b[39;00m forward_call(\u001b[39m*\u001b[39margs, \u001b[39m*\u001b[39m\u001b[39m*\u001b[39mkwargs)\n\u001b[0;32m   1529\u001b[0m \u001b[39mtry\u001b[39;00m:\n\u001b[0;32m   1530\u001b[0m     result \u001b[39m=\u001b[39m \u001b[39mNone\u001b[39;00m\n",
      "File \u001b[1;32md:\\anaconda\\envs\\py310\\lib\\site-packages\\transformers\\models\\bert\\modeling_bert.py:1022\u001b[0m, in \u001b[0;36mBertModel.forward\u001b[1;34m(self, input_ids, attention_mask, token_type_ids, position_ids, head_mask, inputs_embeds, encoder_hidden_states, encoder_attention_mask, past_key_values, use_cache, output_attentions, output_hidden_states, return_dict)\u001b[0m\n\u001b[0;32m   1013\u001b[0m head_mask \u001b[39m=\u001b[39m \u001b[39mself\u001b[39m\u001b[39m.\u001b[39mget_head_mask(head_mask, \u001b[39mself\u001b[39m\u001b[39m.\u001b[39mconfig\u001b[39m.\u001b[39mnum_hidden_layers)\n\u001b[0;32m   1015\u001b[0m embedding_output \u001b[39m=\u001b[39m \u001b[39mself\u001b[39m\u001b[39m.\u001b[39membeddings(\n\u001b[0;32m   1016\u001b[0m     input_ids\u001b[39m=\u001b[39minput_ids,\n\u001b[0;32m   1017\u001b[0m     position_ids\u001b[39m=\u001b[39mposition_ids,\n\u001b[1;32m   (...)\u001b[0m\n\u001b[0;32m   1020\u001b[0m     past_key_values_length\u001b[39m=\u001b[39mpast_key_values_length,\n\u001b[0;32m   1021\u001b[0m )\n\u001b[1;32m-> 1022\u001b[0m encoder_outputs \u001b[39m=\u001b[39m \u001b[39mself\u001b[39;49m\u001b[39m.\u001b[39;49mencoder(\n\u001b[0;32m   1023\u001b[0m     embedding_output,\n\u001b[0;32m   1024\u001b[0m     attention_mask\u001b[39m=\u001b[39;49mextended_attention_mask,\n\u001b[0;32m   1025\u001b[0m     head_mask\u001b[39m=\u001b[39;49mhead_mask,\n\u001b[0;32m   1026\u001b[0m     encoder_hidden_states\u001b[39m=\u001b[39;49mencoder_hidden_states,\n\u001b[0;32m   1027\u001b[0m     encoder_attention_mask\u001b[39m=\u001b[39;49mencoder_extended_attention_mask,\n\u001b[0;32m   1028\u001b[0m     past_key_values\u001b[39m=\u001b[39;49mpast_key_values,\n\u001b[0;32m   1029\u001b[0m     use_cache\u001b[39m=\u001b[39;49muse_cache,\n\u001b[0;32m   1030\u001b[0m     output_attentions\u001b[39m=\u001b[39;49moutput_attentions,\n\u001b[0;32m   1031\u001b[0m     output_hidden_states\u001b[39m=\u001b[39;49moutput_hidden_states,\n\u001b[0;32m   1032\u001b[0m     return_dict\u001b[39m=\u001b[39;49mreturn_dict,\n\u001b[0;32m   1033\u001b[0m )\n\u001b[0;32m   1034\u001b[0m sequence_output \u001b[39m=\u001b[39m encoder_outputs[\u001b[39m0\u001b[39m]\n\u001b[0;32m   1035\u001b[0m pooled_output \u001b[39m=\u001b[39m \u001b[39mself\u001b[39m\u001b[39m.\u001b[39mpooler(sequence_output) \u001b[39mif\u001b[39;00m \u001b[39mself\u001b[39m\u001b[39m.\u001b[39mpooler \u001b[39mis\u001b[39;00m \u001b[39mnot\u001b[39;00m \u001b[39mNone\u001b[39;00m \u001b[39melse\u001b[39;00m \u001b[39mNone\u001b[39;00m\n",
      "File \u001b[1;32md:\\anaconda\\envs\\py310\\lib\\site-packages\\torch\\nn\\modules\\module.py:1518\u001b[0m, in \u001b[0;36mModule._wrapped_call_impl\u001b[1;34m(self, *args, **kwargs)\u001b[0m\n\u001b[0;32m   1516\u001b[0m     \u001b[39mreturn\u001b[39;00m \u001b[39mself\u001b[39m\u001b[39m.\u001b[39m_compiled_call_impl(\u001b[39m*\u001b[39margs, \u001b[39m*\u001b[39m\u001b[39m*\u001b[39mkwargs)  \u001b[39m# type: ignore[misc]\u001b[39;00m\n\u001b[0;32m   1517\u001b[0m \u001b[39melse\u001b[39;00m:\n\u001b[1;32m-> 1518\u001b[0m     \u001b[39mreturn\u001b[39;00m \u001b[39mself\u001b[39m\u001b[39m.\u001b[39m_call_impl(\u001b[39m*\u001b[39margs, \u001b[39m*\u001b[39m\u001b[39m*\u001b[39mkwargs)\n",
      "File \u001b[1;32md:\\anaconda\\envs\\py310\\lib\\site-packages\\torch\\nn\\modules\\module.py:1527\u001b[0m, in \u001b[0;36mModule._call_impl\u001b[1;34m(self, *args, **kwargs)\u001b[0m\n\u001b[0;32m   1522\u001b[0m \u001b[39m# If we don't have any hooks, we want to skip the rest of the logic in\u001b[39;00m\n\u001b[0;32m   1523\u001b[0m \u001b[39m# this function, and just call forward.\u001b[39;00m\n\u001b[0;32m   1524\u001b[0m \u001b[39mif\u001b[39;00m \u001b[39mnot\u001b[39;00m (\u001b[39mself\u001b[39m\u001b[39m.\u001b[39m_backward_hooks \u001b[39mor\u001b[39;00m \u001b[39mself\u001b[39m\u001b[39m.\u001b[39m_backward_pre_hooks \u001b[39mor\u001b[39;00m \u001b[39mself\u001b[39m\u001b[39m.\u001b[39m_forward_hooks \u001b[39mor\u001b[39;00m \u001b[39mself\u001b[39m\u001b[39m.\u001b[39m_forward_pre_hooks\n\u001b[0;32m   1525\u001b[0m         \u001b[39mor\u001b[39;00m _global_backward_pre_hooks \u001b[39mor\u001b[39;00m _global_backward_hooks\n\u001b[0;32m   1526\u001b[0m         \u001b[39mor\u001b[39;00m _global_forward_hooks \u001b[39mor\u001b[39;00m _global_forward_pre_hooks):\n\u001b[1;32m-> 1527\u001b[0m     \u001b[39mreturn\u001b[39;00m forward_call(\u001b[39m*\u001b[39margs, \u001b[39m*\u001b[39m\u001b[39m*\u001b[39mkwargs)\n\u001b[0;32m   1529\u001b[0m \u001b[39mtry\u001b[39;00m:\n\u001b[0;32m   1530\u001b[0m     result \u001b[39m=\u001b[39m \u001b[39mNone\u001b[39;00m\n",
      "File \u001b[1;32md:\\anaconda\\envs\\py310\\lib\\site-packages\\transformers\\models\\bert\\modeling_bert.py:612\u001b[0m, in \u001b[0;36mBertEncoder.forward\u001b[1;34m(self, hidden_states, attention_mask, head_mask, encoder_hidden_states, encoder_attention_mask, past_key_values, use_cache, output_attentions, output_hidden_states, return_dict)\u001b[0m\n\u001b[0;32m    603\u001b[0m     layer_outputs \u001b[39m=\u001b[39m torch\u001b[39m.\u001b[39mutils\u001b[39m.\u001b[39mcheckpoint\u001b[39m.\u001b[39mcheckpoint(\n\u001b[0;32m    604\u001b[0m         create_custom_forward(layer_module),\n\u001b[0;32m    605\u001b[0m         hidden_states,\n\u001b[1;32m   (...)\u001b[0m\n\u001b[0;32m    609\u001b[0m         encoder_attention_mask,\n\u001b[0;32m    610\u001b[0m     )\n\u001b[0;32m    611\u001b[0m \u001b[39melse\u001b[39;00m:\n\u001b[1;32m--> 612\u001b[0m     layer_outputs \u001b[39m=\u001b[39m layer_module(\n\u001b[0;32m    613\u001b[0m         hidden_states,\n\u001b[0;32m    614\u001b[0m         attention_mask,\n\u001b[0;32m    615\u001b[0m         layer_head_mask,\n\u001b[0;32m    616\u001b[0m         encoder_hidden_states,\n\u001b[0;32m    617\u001b[0m         encoder_attention_mask,\n\u001b[0;32m    618\u001b[0m         past_key_value,\n\u001b[0;32m    619\u001b[0m         output_attentions,\n\u001b[0;32m    620\u001b[0m     )\n\u001b[0;32m    622\u001b[0m hidden_states \u001b[39m=\u001b[39m layer_outputs[\u001b[39m0\u001b[39m]\n\u001b[0;32m    623\u001b[0m \u001b[39mif\u001b[39;00m use_cache:\n",
      "File \u001b[1;32md:\\anaconda\\envs\\py310\\lib\\site-packages\\torch\\nn\\modules\\module.py:1518\u001b[0m, in \u001b[0;36mModule._wrapped_call_impl\u001b[1;34m(self, *args, **kwargs)\u001b[0m\n\u001b[0;32m   1516\u001b[0m     \u001b[39mreturn\u001b[39;00m \u001b[39mself\u001b[39m\u001b[39m.\u001b[39m_compiled_call_impl(\u001b[39m*\u001b[39margs, \u001b[39m*\u001b[39m\u001b[39m*\u001b[39mkwargs)  \u001b[39m# type: ignore[misc]\u001b[39;00m\n\u001b[0;32m   1517\u001b[0m \u001b[39melse\u001b[39;00m:\n\u001b[1;32m-> 1518\u001b[0m     \u001b[39mreturn\u001b[39;00m \u001b[39mself\u001b[39m\u001b[39m.\u001b[39m_call_impl(\u001b[39m*\u001b[39margs, \u001b[39m*\u001b[39m\u001b[39m*\u001b[39mkwargs)\n",
      "File \u001b[1;32md:\\anaconda\\envs\\py310\\lib\\site-packages\\torch\\nn\\modules\\module.py:1527\u001b[0m, in \u001b[0;36mModule._call_impl\u001b[1;34m(self, *args, **kwargs)\u001b[0m\n\u001b[0;32m   1522\u001b[0m \u001b[39m# If we don't have any hooks, we want to skip the rest of the logic in\u001b[39;00m\n\u001b[0;32m   1523\u001b[0m \u001b[39m# this function, and just call forward.\u001b[39;00m\n\u001b[0;32m   1524\u001b[0m \u001b[39mif\u001b[39;00m \u001b[39mnot\u001b[39;00m (\u001b[39mself\u001b[39m\u001b[39m.\u001b[39m_backward_hooks \u001b[39mor\u001b[39;00m \u001b[39mself\u001b[39m\u001b[39m.\u001b[39m_backward_pre_hooks \u001b[39mor\u001b[39;00m \u001b[39mself\u001b[39m\u001b[39m.\u001b[39m_forward_hooks \u001b[39mor\u001b[39;00m \u001b[39mself\u001b[39m\u001b[39m.\u001b[39m_forward_pre_hooks\n\u001b[0;32m   1525\u001b[0m         \u001b[39mor\u001b[39;00m _global_backward_pre_hooks \u001b[39mor\u001b[39;00m _global_backward_hooks\n\u001b[0;32m   1526\u001b[0m         \u001b[39mor\u001b[39;00m _global_forward_hooks \u001b[39mor\u001b[39;00m _global_forward_pre_hooks):\n\u001b[1;32m-> 1527\u001b[0m     \u001b[39mreturn\u001b[39;00m forward_call(\u001b[39m*\u001b[39margs, \u001b[39m*\u001b[39m\u001b[39m*\u001b[39mkwargs)\n\u001b[0;32m   1529\u001b[0m \u001b[39mtry\u001b[39;00m:\n\u001b[0;32m   1530\u001b[0m     result \u001b[39m=\u001b[39m \u001b[39mNone\u001b[39;00m\n",
      "File \u001b[1;32md:\\anaconda\\envs\\py310\\lib\\site-packages\\transformers\\models\\bert\\modeling_bert.py:539\u001b[0m, in \u001b[0;36mBertLayer.forward\u001b[1;34m(self, hidden_states, attention_mask, head_mask, encoder_hidden_states, encoder_attention_mask, past_key_value, output_attentions)\u001b[0m\n\u001b[0;32m    536\u001b[0m     cross_attn_present_key_value \u001b[39m=\u001b[39m cross_attention_outputs[\u001b[39m-\u001b[39m\u001b[39m1\u001b[39m]\n\u001b[0;32m    537\u001b[0m     present_key_value \u001b[39m=\u001b[39m present_key_value \u001b[39m+\u001b[39m cross_attn_present_key_value\n\u001b[1;32m--> 539\u001b[0m layer_output \u001b[39m=\u001b[39m apply_chunking_to_forward(\n\u001b[0;32m    540\u001b[0m     \u001b[39mself\u001b[39;49m\u001b[39m.\u001b[39;49mfeed_forward_chunk, \u001b[39mself\u001b[39;49m\u001b[39m.\u001b[39;49mchunk_size_feed_forward, \u001b[39mself\u001b[39;49m\u001b[39m.\u001b[39;49mseq_len_dim, attention_output\n\u001b[0;32m    541\u001b[0m )\n\u001b[0;32m    542\u001b[0m outputs \u001b[39m=\u001b[39m (layer_output,) \u001b[39m+\u001b[39m outputs\n\u001b[0;32m    544\u001b[0m \u001b[39m# if decoder, return the attn key/values as the last output\u001b[39;00m\n",
      "File \u001b[1;32md:\\anaconda\\envs\\py310\\lib\\site-packages\\transformers\\pytorch_utils.py:240\u001b[0m, in \u001b[0;36mapply_chunking_to_forward\u001b[1;34m(forward_fn, chunk_size, chunk_dim, *input_tensors)\u001b[0m\n\u001b[0;32m    237\u001b[0m     \u001b[39m# concatenate output at same dimension\u001b[39;00m\n\u001b[0;32m    238\u001b[0m     \u001b[39mreturn\u001b[39;00m torch\u001b[39m.\u001b[39mcat(output_chunks, dim\u001b[39m=\u001b[39mchunk_dim)\n\u001b[1;32m--> 240\u001b[0m \u001b[39mreturn\u001b[39;00m forward_fn(\u001b[39m*\u001b[39;49minput_tensors)\n",
      "File \u001b[1;32md:\\anaconda\\envs\\py310\\lib\\site-packages\\transformers\\models\\bert\\modeling_bert.py:552\u001b[0m, in \u001b[0;36mBertLayer.feed_forward_chunk\u001b[1;34m(self, attention_output)\u001b[0m\n\u001b[0;32m    550\u001b[0m \u001b[39mdef\u001b[39;00m \u001b[39mfeed_forward_chunk\u001b[39m(\u001b[39mself\u001b[39m, attention_output):\n\u001b[0;32m    551\u001b[0m     intermediate_output \u001b[39m=\u001b[39m \u001b[39mself\u001b[39m\u001b[39m.\u001b[39mintermediate(attention_output)\n\u001b[1;32m--> 552\u001b[0m     layer_output \u001b[39m=\u001b[39m \u001b[39mself\u001b[39;49m\u001b[39m.\u001b[39;49moutput(intermediate_output, attention_output)\n\u001b[0;32m    553\u001b[0m     \u001b[39mreturn\u001b[39;00m layer_output\n",
      "File \u001b[1;32md:\\anaconda\\envs\\py310\\lib\\site-packages\\torch\\nn\\modules\\module.py:1518\u001b[0m, in \u001b[0;36mModule._wrapped_call_impl\u001b[1;34m(self, *args, **kwargs)\u001b[0m\n\u001b[0;32m   1516\u001b[0m     \u001b[39mreturn\u001b[39;00m \u001b[39mself\u001b[39m\u001b[39m.\u001b[39m_compiled_call_impl(\u001b[39m*\u001b[39margs, \u001b[39m*\u001b[39m\u001b[39m*\u001b[39mkwargs)  \u001b[39m# type: ignore[misc]\u001b[39;00m\n\u001b[0;32m   1517\u001b[0m \u001b[39melse\u001b[39;00m:\n\u001b[1;32m-> 1518\u001b[0m     \u001b[39mreturn\u001b[39;00m \u001b[39mself\u001b[39m\u001b[39m.\u001b[39m_call_impl(\u001b[39m*\u001b[39margs, \u001b[39m*\u001b[39m\u001b[39m*\u001b[39mkwargs)\n",
      "File \u001b[1;32md:\\anaconda\\envs\\py310\\lib\\site-packages\\torch\\nn\\modules\\module.py:1527\u001b[0m, in \u001b[0;36mModule._call_impl\u001b[1;34m(self, *args, **kwargs)\u001b[0m\n\u001b[0;32m   1522\u001b[0m \u001b[39m# If we don't have any hooks, we want to skip the rest of the logic in\u001b[39;00m\n\u001b[0;32m   1523\u001b[0m \u001b[39m# this function, and just call forward.\u001b[39;00m\n\u001b[0;32m   1524\u001b[0m \u001b[39mif\u001b[39;00m \u001b[39mnot\u001b[39;00m (\u001b[39mself\u001b[39m\u001b[39m.\u001b[39m_backward_hooks \u001b[39mor\u001b[39;00m \u001b[39mself\u001b[39m\u001b[39m.\u001b[39m_backward_pre_hooks \u001b[39mor\u001b[39;00m \u001b[39mself\u001b[39m\u001b[39m.\u001b[39m_forward_hooks \u001b[39mor\u001b[39;00m \u001b[39mself\u001b[39m\u001b[39m.\u001b[39m_forward_pre_hooks\n\u001b[0;32m   1525\u001b[0m         \u001b[39mor\u001b[39;00m _global_backward_pre_hooks \u001b[39mor\u001b[39;00m _global_backward_hooks\n\u001b[0;32m   1526\u001b[0m         \u001b[39mor\u001b[39;00m _global_forward_hooks \u001b[39mor\u001b[39;00m _global_forward_pre_hooks):\n\u001b[1;32m-> 1527\u001b[0m     \u001b[39mreturn\u001b[39;00m forward_call(\u001b[39m*\u001b[39margs, \u001b[39m*\u001b[39m\u001b[39m*\u001b[39mkwargs)\n\u001b[0;32m   1529\u001b[0m \u001b[39mtry\u001b[39;00m:\n\u001b[0;32m   1530\u001b[0m     result \u001b[39m=\u001b[39m \u001b[39mNone\u001b[39;00m\n",
      "File \u001b[1;32md:\\anaconda\\envs\\py310\\lib\\site-packages\\transformers\\models\\bert\\modeling_bert.py:464\u001b[0m, in \u001b[0;36mBertOutput.forward\u001b[1;34m(self, hidden_states, input_tensor)\u001b[0m\n\u001b[0;32m    463\u001b[0m \u001b[39mdef\u001b[39;00m \u001b[39mforward\u001b[39m(\u001b[39mself\u001b[39m, hidden_states: torch\u001b[39m.\u001b[39mTensor, input_tensor: torch\u001b[39m.\u001b[39mTensor) \u001b[39m-\u001b[39m\u001b[39m>\u001b[39m torch\u001b[39m.\u001b[39mTensor:\n\u001b[1;32m--> 464\u001b[0m     hidden_states \u001b[39m=\u001b[39m \u001b[39mself\u001b[39;49m\u001b[39m.\u001b[39;49mdense(hidden_states)\n\u001b[0;32m    465\u001b[0m     hidden_states \u001b[39m=\u001b[39m \u001b[39mself\u001b[39m\u001b[39m.\u001b[39mdropout(hidden_states)\n\u001b[0;32m    466\u001b[0m     hidden_states \u001b[39m=\u001b[39m \u001b[39mself\u001b[39m\u001b[39m.\u001b[39mLayerNorm(hidden_states \u001b[39m+\u001b[39m input_tensor)\n",
      "File \u001b[1;32md:\\anaconda\\envs\\py310\\lib\\site-packages\\torch\\nn\\modules\\module.py:1518\u001b[0m, in \u001b[0;36mModule._wrapped_call_impl\u001b[1;34m(self, *args, **kwargs)\u001b[0m\n\u001b[0;32m   1516\u001b[0m     \u001b[39mreturn\u001b[39;00m \u001b[39mself\u001b[39m\u001b[39m.\u001b[39m_compiled_call_impl(\u001b[39m*\u001b[39margs, \u001b[39m*\u001b[39m\u001b[39m*\u001b[39mkwargs)  \u001b[39m# type: ignore[misc]\u001b[39;00m\n\u001b[0;32m   1517\u001b[0m \u001b[39melse\u001b[39;00m:\n\u001b[1;32m-> 1518\u001b[0m     \u001b[39mreturn\u001b[39;00m \u001b[39mself\u001b[39m\u001b[39m.\u001b[39m_call_impl(\u001b[39m*\u001b[39margs, \u001b[39m*\u001b[39m\u001b[39m*\u001b[39mkwargs)\n",
      "File \u001b[1;32md:\\anaconda\\envs\\py310\\lib\\site-packages\\torch\\nn\\modules\\module.py:1527\u001b[0m, in \u001b[0;36mModule._call_impl\u001b[1;34m(self, *args, **kwargs)\u001b[0m\n\u001b[0;32m   1522\u001b[0m \u001b[39m# If we don't have any hooks, we want to skip the rest of the logic in\u001b[39;00m\n\u001b[0;32m   1523\u001b[0m \u001b[39m# this function, and just call forward.\u001b[39;00m\n\u001b[0;32m   1524\u001b[0m \u001b[39mif\u001b[39;00m \u001b[39mnot\u001b[39;00m (\u001b[39mself\u001b[39m\u001b[39m.\u001b[39m_backward_hooks \u001b[39mor\u001b[39;00m \u001b[39mself\u001b[39m\u001b[39m.\u001b[39m_backward_pre_hooks \u001b[39mor\u001b[39;00m \u001b[39mself\u001b[39m\u001b[39m.\u001b[39m_forward_hooks \u001b[39mor\u001b[39;00m \u001b[39mself\u001b[39m\u001b[39m.\u001b[39m_forward_pre_hooks\n\u001b[0;32m   1525\u001b[0m         \u001b[39mor\u001b[39;00m _global_backward_pre_hooks \u001b[39mor\u001b[39;00m _global_backward_hooks\n\u001b[0;32m   1526\u001b[0m         \u001b[39mor\u001b[39;00m _global_forward_hooks \u001b[39mor\u001b[39;00m _global_forward_pre_hooks):\n\u001b[1;32m-> 1527\u001b[0m     \u001b[39mreturn\u001b[39;00m forward_call(\u001b[39m*\u001b[39margs, \u001b[39m*\u001b[39m\u001b[39m*\u001b[39mkwargs)\n\u001b[0;32m   1529\u001b[0m \u001b[39mtry\u001b[39;00m:\n\u001b[0;32m   1530\u001b[0m     result \u001b[39m=\u001b[39m \u001b[39mNone\u001b[39;00m\n",
      "File \u001b[1;32md:\\anaconda\\envs\\py310\\lib\\site-packages\\torch\\nn\\modules\\linear.py:114\u001b[0m, in \u001b[0;36mLinear.forward\u001b[1;34m(self, input)\u001b[0m\n\u001b[0;32m    113\u001b[0m \u001b[39mdef\u001b[39;00m \u001b[39mforward\u001b[39m(\u001b[39mself\u001b[39m, \u001b[39minput\u001b[39m: Tensor) \u001b[39m-\u001b[39m\u001b[39m>\u001b[39m Tensor:\n\u001b[1;32m--> 114\u001b[0m     \u001b[39mreturn\u001b[39;00m F\u001b[39m.\u001b[39;49mlinear(\u001b[39minput\u001b[39;49m, \u001b[39mself\u001b[39;49m\u001b[39m.\u001b[39;49mweight, \u001b[39mself\u001b[39;49m\u001b[39m.\u001b[39;49mbias)\n",
      "\u001b[1;31mKeyboardInterrupt\u001b[0m: "
     ]
    }
   ],
   "source": [
    "embeded_sentences = embedder(sentences)"
   ]
  },
  {
   "cell_type": "code",
   "execution_count": 35,
   "metadata": {},
   "outputs": [
    {
     "name": "stdout",
     "output_type": "stream",
     "text": [
      "Successful added to collection\n"
     ]
    }
   ],
   "source": [
    "import chromadb\n",
    "\n",
    "chroma_client = chromadb.PersistentClient(path='./chroma_storage')\n",
    "chroma_client.delete_collection(\"app\")\n",
    "collection = chroma_client.create_collection(name=\"app\", embedding_function=chroma_embedder)\n",
    "\n",
    "insert_df_collection(\n",
    "    collection = collection,\n",
    "    embeddings = embeded_sentences.tolist(), \n",
    "    df = description[:32], \n",
    "    doc_col = 'summary', \n",
    "    id_col = 'index', \n",
    "    meta_cols = None\n",
    ")"
   ]
  },
  {
   "cell_type": "code",
   "execution_count": 37,
   "metadata": {},
   "outputs": [
    {
     "name": "stdout",
     "output_type": "stream",
     "text": [
      "Embedding Batch: 1......Done.\n"
     ]
    },
    {
     "data": {
      "text/plain": [
       "[[{'app_name': 'CreditKes',\n",
       "   'comments': '',\n",
       "   'data_country_id': 254,\n",
       "   'description': 'CreditKes is a secure and convenient loan platform for Kenya Citizens.',\n",
       "   'genre_old': '\"FINANCE\"',\n",
       "   'installs_old': 399926.0,\n",
       "   'package_name': 'com.creditkes.app',\n",
       "   'score_old': 0.0,\n",
       "   'title': 'CreditKes',\n",
       "   'url': 'https://play.google.com/store/apps/details?id=com.creditkes.app&hl=en&gl=us'},\n",
       "  {'app_name': 'Creditmoja',\n",
       "   'comments': \"The loan was issued pretty fast. However, look carefully at the repayment options. One option is much more costly. Secondly, the harassment via text starts two days before the loan due date. The loan processing is very efficient. The problem is their interest rate. It's extremely high. The first time they charged 600 for a loan of 2k so I received 1400. They promised to increase the limit and reduce interest the second borrowing which they increased to 3600 and charged 600. I got some cash and repaid the second one earlier but they have reduced my limit to 3k and are charging 875 interest. And all this time they don't extend their repayment period it's always 7days. Very Efficient & Quick. Good morning, you have a good Loan platform. And thank you for your feedback on the app reviews. Thank you you granted me 1000/= with interest of 40%, the interest is quite higher, hoping you can adjust on that so that we can both benefit on it equally. Also I expected higher loan, can you adjust on that next round? Thank you and blessed day. You guys have instantly rejected my application several times and I wondered what could be the reason since my credit history is not bad. Today after applying no rejection but it's thirty minutes still reviewing my application and as usual I know am waiting for a rejection... Why all this I had an emergency but you guys can't help me... Why all these inconveniences I have had a good experience with the app,timely disbursement of funds that is more easy and convenient am looking forward to grow to higher limits . \",\n",
       "   'data_country_id': 256,\n",
       "   'description': 'Simple and fast credit loan in Kenya, 100% digital and 0 paperwork.',\n",
       "   'genre_old': '\"FINANCE\"',\n",
       "   'installs_old': 2349293.0,\n",
       "   'package_name': 'com.kenya.credit.app.loan.cash.money.pesa',\n",
       "   'score_old': 4.1,\n",
       "   'title': 'Creditmoja - Cash Loan App',\n",
       "   'url': 'https://play.google.com/store/apps/details?id=com.kenya.credit.app.loan.cash.money.pesa&hl=en&gl=ug'},\n",
       "  {'app_name': 'Creditmoja',\n",
       "   'comments': \"The loan was issued pretty fast. However, look carefully at the repayment options. One option is much more costly. Secondly, the harassment via text starts two days before the loan due date. The loan processing is very efficient. The problem is their interest rate. It's extremely high. The first time they charged 600 for a loan of 2k so I received 1400. They promised to increase the limit and reduce interest the second borrowing which they increased to 3600 and charged 600. I got some cash and repaid the second one earlier but they have reduced my limit to 3k and are charging 875 interest. And all this time they don't extend their repayment period it's always 7days. Very Efficient & Quick. Good morning, you have a good Loan platform. And thank you for your feedback on the app reviews. Thank you you granted me 1000/= with interest of 40%, the interest is quite higher, hoping you can adjust on that so that we can both benefit on it equally. Also I expected higher loan, can you adjust on that next round? Thank you and blessed day. You guys have instantly rejected my application several times and I wondered what could be the reason since my credit history is not bad. Today after applying no rejection but it's thirty minutes still reviewing my application and as usual I know am waiting for a rejection... Why all this I had an emergency but you guys can't help me... Why all these inconveniences I have had a good experience with the app,timely disbursement of funds that is more easy and convenient am looking forward to grow to higher limits . \",\n",
       "   'data_country_id': 254,\n",
       "   'description': 'Simple and fast credit loan in Kenya, 100% digital and 0 paperwork.',\n",
       "   'genre_old': '\"FINANCE\"',\n",
       "   'installs_old': 2349293.0,\n",
       "   'package_name': 'com.kenya.credit.app.loan.cash.money.pesa',\n",
       "   'score_old': 4.1,\n",
       "   'title': 'Creditmoja - Cash Loan App',\n",
       "   'url': 'https://play.google.com/store/apps/details?id=com.kenya.credit.app.loan.cash.money.pesa&hl=en&gl=ke'},\n",
       "  {'app_name': 'Lend Plus',\n",
       "   'comments': \"This is one of the poorest apps I have ever encountered. I wouldn't recommend any one to use it because it's full of scam from the customer care untill the last process. I wish there was a zero star for me to rate it. In the meantime let me give it a one star.\\\\nThis app is absolutely nice, with friendly interest rate, convient payment duration, fast approval and disbursement and good customer care service. I would recommend any one in dire need of money to use this app. Am looking forward depending on you when in need of money going forward.\\\\nUsed to be a good app but not anymore. Unresponsive and slow in disbursement if any. Even their customer care service is not helpful. Bogus app.\",\n",
       "   'data_country_id': 256,\n",
       "   'description': 'Easy cash loans online from Lendplus',\n",
       "   'genre_old': '\"FINANCE\"',\n",
       "   'installs_old': 353964.0,\n",
       "   'package_name': 'ke.lendplus.mobile',\n",
       "   'score_old': 4.2,\n",
       "   'title': 'LendPlus',\n",
       "   'url': 'https://play.google.com/store/apps/details?id=ke.lendplus.mobile&hl=en&gl=ug'},\n",
       "  {'app_name': 'Lend Plus',\n",
       "   'comments': \"Is a good App. I can recommend. The only problem they need to work on is minimizing the robot calls and SMS. They are quite unprofessional and annoying and they might push away some good clients. Please put that into consideration. Thanks. Not happy, borrowed twice and paid before the due date and when I needed a third time they rejected without explanation or giving me an option for a lower amount. Customer service sucks no replies just computer generated texts. Not good if you have an emergency. Bad loan app. Repeated calls that are so annoying. Even after paying they still call and send text messages many hours after. Also very high, exorbitant and predatory interest rates. Would not recommend to anyone. It's a good app provided you keep the time line of the payment duration. The area I have issues is receiving calls by your system. Some of us receive calls from our customers for service so when your system immediately call I peak assuming it's client only to hear reminder from you. So try to control that and you will become friendly staff. Thanks 🙏 They give you the cash but a day later annoying unending robot calls reminding you to pay. The most annoying thing about this app is that even after you have paid the loan, their unqualified personnel will still send you threatening texts before even verifying if you had cleared the loan balance. A good loan app but they really encourage you to default by endless texts and calls. \",\n",
       "   'data_country_id': 254,\n",
       "   'description': 'Legal mobile loan app - borrow cash online instantly via M-Pesa',\n",
       "   'genre_old': '\"FINANCE\"',\n",
       "   'installs_old': 1443599.0,\n",
       "   'package_name': 'ke.lendplus.mobile',\n",
       "   'score_old': 4.1,\n",
       "   'title': 'LendPlus - loan app Kenya',\n",
       "   'url': 'https://play.google.com/store/apps/details?id=ke.lendplus.mobile&hl=en&gl=ke'},\n",
       "  {'app_name': 'Much Loan',\n",
       "   'comments': \"Let me second Wellngton Shitote, the app currently is not working well. I already paid their loan but they don't update the payment on the system, they keep sending texts that they want you to pay even when you have already paid. Either their accounts department is not working, no statement reconciliations done,or their ICT department is luxed. Much loan team you need to improve on this as fast to keep up with your competitors , otherwise I may have to advise anyone with a financial need to cons Might be a data harvest at play here. After submitting all private information and photos, when you click apply it does not give you the option to select what amount you want and proceed. It simply loops and leaves everything blank. The app might have been launched just for collection and abuse of data. A very disappointing app, imagine you pay there loan but they don't update, on the app shows that you have not paid and accumulating arrears. I don't understand how many times do they want you to be paid. Scam... This app has a lady Esther Wangari, i applied loan 2000, was given 1400, their interest is 600 in seven days, i paid today morning hours, the app is inviting me for higher amount 2500 but to my shock Wangari is still texting me asking for cash. I call her she cant pick phone, she sends very bad text, why ask a client to pay twice ? How do they do their business ? Its better to die with your problem than dealing with that lady, she cant pick phone, she keeps sending thretening texts , surely wha Why is it that I settled your loan 4 days ago but it's not updated in your accounts instead it keeps accruing penalty each day kindly make an effort of doing the update. \",\n",
       "   'data_country_id': 256,\n",
       "   'description': 'Apply online and Loans to your M-pesa，Safe And instant.',\n",
       "   'genre_old': '\"FINANCE\"',\n",
       "   'installs_old': 215736.0,\n",
       "   'package_name': 'com.jasper.muchloan.ke',\n",
       "   'score_old': 0.0,\n",
       "   'title': 'Much Loan',\n",
       "   'url': 'https://play.google.com/store/apps/details?id=com.jasper.muchloan.ke&hl=en&gl=us'},\n",
       "  {'app_name': 'Much Loan',\n",
       "   'comments': \"Let me second Wellngton Shitote, the app currently is not working well. I already paid their loan but they don't update the payment on the system, they keep sending texts that they want you to pay even when you have already paid. Either their accounts department is not working, no statement reconciliations done,or their ICT department is luxed. Much loan team you need to improve on this as fast to keep up with your competitors , otherwise I may have to advise anyone with a financial need to cons Might be a data harvest at play here. After submitting all private information and photos, when you click apply it does not give you the option to select what amount you want and proceed. It simply loops and leaves everything blank. The app might have been launched just for collection and abuse of data. A very disappointing app, imagine you pay there loan but they don't update, on the app shows that you have not paid and accumulating arrears. I don't understand how many times do they want you to be paid. Scam... This app has a lady Esther Wangari, i applied loan 2000, was given 1400, their interest is 600 in seven days, i paid today morning hours, the app is inviting me for higher amount 2500 but to my shock Wangari is still texting me asking for cash. I call her she cant pick phone, she sends very bad text, why ask a client to pay twice ? How do they do their business ? Its better to die with your problem than dealing with that lady, she cant pick phone, she keeps sending thretening texts , surely wha Why is it that I settled your loan 4 days ago but it's not updated in your accounts instead it keeps accruing penalty each day kindly make an effort of doing the update. \",\n",
       "   'data_country_id': 254,\n",
       "   'description': 'Apply online and Loans to your M-pesa，Safe And instant.',\n",
       "   'genre_old': '\"FINANCE\"',\n",
       "   'installs_old': 215736.0,\n",
       "   'package_name': 'com.jasper.muchloan.ke',\n",
       "   'score_old': 0.0,\n",
       "   'title': 'Much Loan',\n",
       "   'url': 'https://play.google.com/store/apps/details?id=com.jasper.muchloan.ke&hl=en&gl=us'},\n",
       "  {'app_name': 'GetLoan',\n",
       "   'comments': \"Thanks to GetLoan's app I was able to have the wonderful opportunity to make and also get many loans, super fast and without too much paperwork, I really needed an app for me, since it is super important and vital to be able to get. The application process is very fast, I don't need a lot of paperwork and the best thing is that you can get large amounts in moments, best of all are very low interest!!! I recommend this application even more to Peruvians! I wouldn't recommend this app. Submitted my information, and applied, now it's 5 days the app still shows under review. They don't answer phone calls and the online messaging within the app is unattended to, no one replies to the messages you send them yet they claim to reply within 2 hours. Unreliable people these are. Excellent application, they are quite punctual in payments, they can get anyone out of any problem, the disbursement is quite fast. I'm a senior citizen and it didn't complicate me in any way, because it's too simple steps and it's not delayed, I could do it from home, because I walk in a wheelchair and it's complicated to get around in those wheelchairs. I have applied for loans on other loan apps and nothing compares to this app, called GetLoan! To me, this is the best app I could find. I recommend it 100%, I really like knowing that I have an app that is made to get super fast and reliable loans, when you apply for a loan you realize that their process is very good, they don't ask you for so many applications, and it is really worth it! I needed to pay my son's dance allowance urgently, but I was unemployed at the time and had to cover basic needs such as food and accommodation. I was told about the app and started installing it and when I checked I had the money in my account, it was super easy and quick, the disbursement took place in less than 24 hours. \",\n",
       "   'data_country_id': 256,\n",
       "   'description': 'Online installment loans, a very quick and emergency loan app in Uganda!',\n",
       "   'genre_old': '\"FINANCE\"',\n",
       "   'installs_old': 110022.0,\n",
       "   'package_name': 'com.money.mobile.safe.personal.loan.credit.borrow.get.interest.quick',\n",
       "   'score_old': 0.0,\n",
       "   'title': 'GetLoan-Online Fast Loan',\n",
       "   'url': 'https://play.google.com/store/apps/details?id=com.money.mobile.safe.personal.loan.credit.borrow.get.interest.quick&hl=en&gl=us'},\n",
       "  {'app_name': 'Creditmoja',\n",
       "   'comments': '',\n",
       "   'data_country_id': 234,\n",
       "   'description': 'Creditmoja is a simple Loan APP in Kenya, 100% digital and 0 paperwork.',\n",
       "   'genre_old': '\"FINANCE\"',\n",
       "   'installs_old': 1042684.0,\n",
       "   'package_name': 'com.kenya.credit.app.loan.cash.money.pesa',\n",
       "   'score_old': 0.0,\n",
       "   'title': 'Creditmoja - Digital Loan APP',\n",
       "   'url': 'https://play.google.com/store/apps/details?id=com.kenya.credit.app.loan.cash.money.pesa&hl=en&gl=ng'},\n",
       "  {'app_name': 'TALA',\n",
       "   'comments': \"Applying for a loan is easy.and I like the fact that you can choose a repayment date you are comfortable with.The money is also transferred to your account instantly. The interest rates are a bit high though.otherwise so far so good\\\\nVery good loan facility app. User interface quite friendly and the management very professional, sending you financial tips and customer friendly reminders. I recommend for emergency purposes.\\\\nIt's so easy to get a loan. There's been times I was beyond stressed on where to get emergency money, and tala was there for me. Simple. Quick. And true to their word. After I paid my loan on time, my limit went up by 2k. Definitely going to keep them as a partner through my financial career. Thanks Tala! 5 stars and beyond 🙏🏾✨\",\n",
       "   'data_country_id': 234,\n",
       "   'description': 'Get up to KSh 30,000 cash to your M-Pesa. Apply in 5 mins. Instant approvals.',\n",
       "   'genre_old': '\"FINANCE\"',\n",
       "   'installs_old': 10791587.0,\n",
       "   'package_name': 'com.inventureaccess.safarirahisi',\n",
       "   'score_old': 4.7,\n",
       "   'title': 'Tala: Borrow up to KSh 30,000',\n",
       "   'url': 'https://play.google.com/store/apps/details?id=com.inventureaccess.safarirahisi&hl=en&gl=ng'},\n",
       "  {'app_name': 'Creditmoja Loan Guide',\n",
       "   'comments': 'Creditmoja instant loan guide is really game changing app. By using this earning can be increase. It is full of happiness. I like it very much.✌ Creditmoja instant loan guide is a very useful and helpful application, this provide easy way to get instant loan.❤️ This is very good working and amazing and stand ground guide application ..😇 This is very good working and amazing and stand ground guide application ## Instant loan guide is very fantastic and useful application## ',\n",
       "   'data_country_id': 256,\n",
       "   'description': 'Creditmoja Instant loan is a Fast & easy Service for your emergency needs.',\n",
       "   'genre_old': '\"FINANCE\"',\n",
       "   'installs_old': 8678.0,\n",
       "   'package_name': 'com.kenya.creditmoja_loan.creditmoja_kenya.cash_money_mpesa',\n",
       "   'score_old': 4.8,\n",
       "   'title': 'Creditmoja Instant Loan Guide',\n",
       "   'url': 'https://play.google.com/store/apps/details?id=com.kenya.creditmoja_loan.creditmoja_kenya.cash_money_mpesa&hl=en&gl=ug'},\n",
       "  {'app_name': 'Creditmoja Guide',\n",
       "   'comments': 'Creditmoja instant loan guide is really game changing app. By using this earning can be increase. It is full of happiness. I like it very much.✌ Creditmoja instant loan guide is a very useful and helpful application, this provide easy way to get instant loan.❤️ This is very good working and amazing and stand ground guide application ..😇 This is very good working and amazing and stand ground guide application ## Instant loan guide is very fantastic and useful application## ',\n",
       "   'data_country_id': 254,\n",
       "   'description': 'Creditmoja Instant loan is a Fast & easy Service for your emergency needs.',\n",
       "   'genre_old': '\"FINANCE\"',\n",
       "   'installs_old': 8678.0,\n",
       "   'package_name': 'com.kenya.creditmoja_loan.creditmoja_kenya.cash_money_mpesa',\n",
       "   'score_old': 3.1,\n",
       "   'title': 'Creditmoja Instant Loan Guide',\n",
       "   'url': 'https://play.google.com/store/apps/details?id=com.kenya.creditmoja_loan.creditmoja_kenya.cash_money_mpesa&hl=en&gl=ke'},\n",
       "  {'app_name': 'Inua Mkopo',\n",
       "   'comments': '',\n",
       "   'data_country_id': 254,\n",
       "   'description': 'Borrow your first 5K-50K today sent to Mpesa.',\n",
       "   'genre_old': '\"FINANCE\"',\n",
       "   'installs_old': 9229.0,\n",
       "   'package_name': 'com.mkopoinua.inuacredit',\n",
       "   'score_old': 0.0,\n",
       "   'title': 'Inua Mkopo',\n",
       "   'url': 'https://play.google.com/store/apps/details?id=com.mkopoinua.inuacredit&hl=en&gl=us'},\n",
       "  {'app_name': 'IMARA LOANS',\n",
       "   'comments': '',\n",
       "   'data_country_id': 254,\n",
       "   'description': 'Fast & Reliable loans to your mobile account',\n",
       "   'genre_old': '\"FINANCE\"',\n",
       "   'installs_old': 147.0,\n",
       "   'package_name': 'com.skyler.sikiaa',\n",
       "   'score_old': 0.0,\n",
       "   'title': 'Imara funds',\n",
       "   'url': 'https://play.google.com/store/apps/details?id=com.skyler.sikiaa&hl=en&gl=ke'},\n",
       "  {'app_name': 'Kashbean',\n",
       "   'comments': \"Must you pressurize me to pay even bfo the deadline with 20 strange numbers calling and texting while am busy at work???? Don't you have an official number,? And also,before deadline you should only remind with one or two messages, ..all employees want to call and text one after the other just to pay ksh 400, very unprofessional!! Am paying your loan and uninstalling this app immediately. My limit had grown and I was paying on time , then my limit was reduced for no good reason because I have loans with other apps , any way it's very inconvenient because I have paid on time, also your agent lied even before I paid that my limit will increase. Any way it's very inconvenient to do that. It's easy to apply but before you get the loan it's something else like for me I have always tried to apply for almost one month now and there is no positive feedback So far so good, my first loan was fast was requested to pay and get an increase in my limit, it happened instantly. it's a great app, sorted me out in a very short time, interest is manageable. Keep up the good work. Amazing and fast, brief yet straight to the point, can spare you time compared to a shyloc or unlicensed lender, nice services and customer oriented ,satisfactory and I believe there are no complains .It is nice to do business and the customer or lender/ applicants get a reason to smile during such tough times. Further more some apps advertise for bigger lost and lend nothing, this one keeps its words fast,reliable and full of integrity . It is quite fantastic, sorts out emergencies.The best ... \",\n",
       "   'data_country_id': 256,\n",
       "   'description': 'Get money immediately at any time any place in Kenya',\n",
       "   'genre_old': '\"FINANCE\"',\n",
       "   'installs_old': 1728128.0,\n",
       "   'package_name': 'com.kashbean',\n",
       "   'score_old': 4.3,\n",
       "   'title': 'Kashbean-your loan partner',\n",
       "   'url': 'https://play.google.com/store/apps/details?id=com.kashbean&hl=en&gl=ug'},\n",
       "  {'app_name': 'Kashbean',\n",
       "   'comments': \"Must you pressurize me to pay even bfo the deadline with 20 strange numbers calling and texting while am busy at work???? Don't you have an official number,? And also,before deadline you should only remind with one or two messages, ..all employees want to call and text one after the other just to pay ksh 400, very unprofessional!! Am paying your loan and uninstalling this app immediately. My limit had grown and I was paying on time , then my limit was reduced for no good reason because I have loans with other apps , any way it's very inconvenient because I have paid on time, also your agent lied even before I paid that my limit will increase. Any way it's very inconvenient to do that. It's easy to apply but before you get the loan it's something else like for me I have always tried to apply for almost one month now and there is no positive feedback So far so good, my first loan was fast was requested to pay and get an increase in my limit, it happened instantly. it's a great app, sorted me out in a very short time, interest is manageable. Keep up the good work. Amazing and fast, brief yet straight to the point, can spare you time compared to a shyloc or unlicensed lender, nice services and customer oriented ,satisfactory and I believe there are no complains .It is nice to do business and the customer or lender/ applicants get a reason to smile during such tough times. Further more some apps advertise for bigger lost and lend nothing, this one keeps its words fast,reliable and full of integrity . It is quite fantastic, sorts out emergencies.The best ... \",\n",
       "   'data_country_id': 254,\n",
       "   'description': 'Get money immediately at any time any place in Kenya',\n",
       "   'genre_old': '\"FINANCE\"',\n",
       "   'installs_old': 1731525.0,\n",
       "   'package_name': 'com.kashbean',\n",
       "   'score_old': 4.3,\n",
       "   'title': 'Kashbean-your loan partner',\n",
       "   'url': 'https://play.google.com/store/apps/details?id=com.kashbean&hl=en&gl=ke'},\n",
       "  {'app_name': 'Quick X Loans',\n",
       "   'comments': '',\n",
       "   'data_country_id': 254,\n",
       "   'description': 'We provide fast, secure and instant loans in Kenya',\n",
       "   'genre_old': '\"FINANCE\"',\n",
       "   'installs_old': 719.0,\n",
       "   'package_name': 'com.bestonefornow.quickxloans',\n",
       "   'score_old': 0.0,\n",
       "   'title': 'MKOPO LOANS',\n",
       "   'url': 'https://play.google.com/store/apps/details?id=com.bestonefornow.quickxloans&hl=en&gl=us'},\n",
       "  {'app_name': 'TALA',\n",
       "   'comments': \"I have used Tala loan and it's good in such a way the services are good if you request a loan you get it instantly, the interest is very low and it's a reducing balance , if you pay the loan balance, you can apply another one on the same day so you can't get stuck,and no guarantees nor security needed, it's sooo good to everyone in need of finance to boost business,thanks It's good and very reliable. I love it. I have tried it because I needed money to boost my business and for sure it has come through for me. The procedures are not much and can be cleary seen as true. Thank tala for accepting my request I hope everyone just chooses this loan app. you just helped me when I was stuck. The loan repayment period is also flexible and very reliable. The interest is also not high compared to other loan apps they take short time to allocate the loan. Very efficient, very reliable, customer friendly, pocket-friendly interest rates and convenient repayment period based on your ability. I highly recommend it to any interested borrower. Tala all the time! *TALA, THE BEST FOREVER!* It's good... Try doing away with the payment charges by opting for a till number instead of a paybil number which further increases the cost of the loan unnecessarily...! Another option would be simply linking your bank account for direct deposit from our mpesa when we are paying back loans ... Love it. Best loan app. Low interest rates and loan processed and distbursed instantly. Very reliable. Now enjoying the Gold limit. And one can choose the repayment time that they are comfortable with. \",\n",
       "   'data_country_id': 254,\n",
       "   'description': 'Introducing Line of Credit. Cash sent instantly to M-Pesa. Apply in 5 mins.',\n",
       "   'genre_old': '\"FINANCE\"',\n",
       "   'installs_old': 12489150.0,\n",
       "   'package_name': 'com.inventureaccess.safarirahisi',\n",
       "   'score_old': 4.5,\n",
       "   'title': 'Tala: Get Cash up to KSh 50000',\n",
       "   'url': 'https://play.google.com/store/apps/details?id=com.inventureaccess.safarirahisi&hl=en&gl=ke'},\n",
       "  {'app_name': 'SecureLoan',\n",
       "   'comments': '',\n",
       "   'data_country_id': 256,\n",
       "   'description': 'Easy to get loan up to 365 days. Secure, fast and reliable credit loan',\n",
       "   'genre_old': '\"FINANCE\"',\n",
       "   'installs_old': 169881.0,\n",
       "   'package_name': 'credits.loan.personal.mobile.cash.flexcash.uganda',\n",
       "   'score_old': 0.0,\n",
       "   'title': 'Secure Loan: Up to UGX 900,000',\n",
       "   'url': 'https://play.google.com/store/apps/details?id=credits.loan.personal.mobile.cash.flexcash.uganda&hl=en&gl=us'},\n",
       "  {'app_name': 'LOANJoint',\n",
       "   'comments': '',\n",
       "   'data_country_id': 254,\n",
       "   'description': 'The best place for secure mpesa loans',\n",
       "   'genre_old': '\"FINANCE\"',\n",
       "   'installs_old': 3334.0,\n",
       "   'package_name': 'com.mpesake.mloans',\n",
       "   'score_old': 0.0,\n",
       "   'title': 'LOANJoint - KE (Mpesa loans)',\n",
       "   'url': 'https://play.google.com/store/apps/details?id=com.mpesake.mloans&hl=en&gl=us'}]]"
      ]
     },
     "execution_count": 37,
     "metadata": {},
     "output_type": "execute_result"
    }
   ],
   "source": [
    "results = collection.query(\n",
    "    query_texts=[\"loan,credit\"],\n",
    "    n_results=20,\n",
    ")\n",
    "\n",
    "results['metadatas']"
   ]
  },
  {
   "cell_type": "code",
   "execution_count": null,
   "metadata": {},
   "outputs": [],
   "source": []
  },
  {
   "cell_type": "code",
   "execution_count": null,
   "metadata": {},
   "outputs": [],
   "source": []
  },
  {
   "cell_type": "code",
   "execution_count": null,
   "metadata": {},
   "outputs": [],
   "source": []
  }
 ],
 "metadata": {
  "kernelspec": {
   "display_name": "base",
   "language": "python",
   "name": "python3"
  },
  "language_info": {
   "codemirror_mode": {
    "name": "ipython",
    "version": 3
   },
   "file_extension": ".py",
   "mimetype": "text/x-python",
   "name": "python",
   "nbconvert_exporter": "python",
   "pygments_lexer": "ipython3",
   "version": "3.10.9"
  }
 },
 "nbformat": 4,
 "nbformat_minor": 2
}
